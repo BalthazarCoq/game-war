{
 "cells": [
  {
   "cell_type": "code",
   "execution_count": 1,
   "id": "29fd3711",
   "metadata": {},
   "outputs": [],
   "source": [
    "import random\n",
    "suits = ('Hearts', 'Diamonds', 'Spades', 'Clubs')\n",
    "ranks = ('Two', 'Three', 'Four', 'Five', 'Six', 'Seven', 'Eight', 'Nine', 'Ten', 'Jack', 'Queen', 'King', 'Ace')\n",
    "values = {'Two':2, 'Three':3, 'Four':4, 'Five':5, 'Six':6, 'Seven':7, 'Eight':8, 'Nine':9, 'Ten':10, 'Jack':11, 'Queen':12, 'King':13, 'Ace':14}"
   ]
  },
  {
   "cell_type": "code",
   "execution_count": 2,
   "id": "8a4aadca",
   "metadata": {},
   "outputs": [],
   "source": [
    "class Card():\n",
    "    '''\n",
    "    A class that allows the creation of card, by giving their suit and their ranks. Based on the rank, the value of the card is also given\n",
    "    ''' \n",
    "    \n",
    "    def __init__(self, suit, rank):\n",
    "        self.suit = suit\n",
    "        self.rank = rank\n",
    "        self.value = values[rank]\n",
    "        \n",
    "        # print(f'{rank} of {suit} created.')\n",
    "        # With one card created it is interesting, but when creating a deck its problematic\n",
    "\n",
    "    def __str__ (self):\n",
    "        return self.rank + \" of \" + self.suit"
   ]
  },
  {
   "cell_type": "code",
   "execution_count": 3,
   "id": "1e8ab171",
   "metadata": {},
   "outputs": [],
   "source": [
    "new_card = Card('Heart', 'Ace')"
   ]
  },
  {
   "cell_type": "code",
   "execution_count": 4,
   "id": "b3089fdc",
   "metadata": {},
   "outputs": [
    {
     "name": "stdout",
     "output_type": "stream",
     "text": [
      "Ace of Heart\n"
     ]
    }
   ],
   "source": [
    "print(new_card)"
   ]
  },
  {
   "cell_type": "code",
   "execution_count": 5,
   "id": "b3099a62",
   "metadata": {},
   "outputs": [
    {
     "data": {
      "text/plain": [
       "14"
      ]
     },
     "execution_count": 5,
     "metadata": {},
     "output_type": "execute_result"
    }
   ],
   "source": [
    "new_card.value"
   ]
  },
  {
   "cell_type": "code",
   "execution_count": 6,
   "id": "449955bc",
   "metadata": {},
   "outputs": [],
   "source": [
    "class Deck():\n",
    "\n",
    "    '''\n",
    "    A class that allows the creation of a deck. The deck is created based on the Card() class. \n",
    "    We can perform 2 operations with the deck : shuffle the deck, deal on card of the back of deck\n",
    "    '''\n",
    "\n",
    "    def __init__(self):\n",
    "        self.all_cards = []\n",
    "        # An empty deck that we are going to fill. NOTE : Thanks to this attribute we can then check the length of the deck. deck.cards_deck\n",
    "\n",
    "        for suit in suits :\n",
    "            for rank in ranks :\n",
    "                created_card = Card(suit, rank)\n",
    "                self.all_cards.append(created_card)\n",
    "        # Iteration through the 2 lists in 1st indentation (suits, ranks). Creation of the card with the class Card() and add the card to the empty deck. #\n",
    "\n",
    "    def deal_one(self):\n",
    "        return self.all_cards.pop()\n",
    "        # NOTE : important to return the result. If not it will not be saved, which would be a problem when playing the game\n",
    "\n",
    "    def shuffle(self, amount=3):\n",
    "        for i in range(amount):\n",
    "            random.shuffle(self.all_cards)\n",
    "        # NOTE : important to call shuffle from the library random & to say what to shuffle (all_cards.deck) If not it does not work.\n"
   ]
  },
  {
   "cell_type": "code",
   "execution_count": 7,
   "id": "108779cb",
   "metadata": {},
   "outputs": [],
   "source": [
    "new_deck = Deck()"
   ]
  },
  {
   "cell_type": "code",
   "execution_count": 8,
   "id": "7d44ad66",
   "metadata": {},
   "outputs": [],
   "source": [
    "new_deck.shuffle(5)"
   ]
  },
  {
   "cell_type": "code",
   "execution_count": 9,
   "id": "3c985bab",
   "metadata": {},
   "outputs": [
    {
     "name": "stdout",
     "output_type": "stream",
     "text": [
      "Six of Diamonds\n"
     ]
    }
   ],
   "source": [
    "print (new_deck.all_cards[-1])"
   ]
  },
  {
   "cell_type": "code",
   "execution_count": 10,
   "id": "9426f73b",
   "metadata": {},
   "outputs": [
    {
     "name": "stdout",
     "output_type": "stream",
     "text": [
      "Six of Diamonds\n"
     ]
    }
   ],
   "source": [
    "print (new_deck.deal_one())"
   ]
  },
  {
   "cell_type": "code",
   "execution_count": 11,
   "id": "5ecb0220",
   "metadata": {},
   "outputs": [
    {
     "data": {
      "text/plain": [
       "51"
      ]
     },
     "execution_count": 11,
     "metadata": {},
     "output_type": "execute_result"
    }
   ],
   "source": [
    "len(new_deck.all_cards)"
   ]
  },
  {
   "cell_type": "code",
   "execution_count": 12,
   "id": "c71dd644",
   "metadata": {},
   "outputs": [],
   "source": [
    "class Player():\n",
    "    ''' \n",
    "    A class that symbolise the deck of a player / the cards hold by the player.\n",
    "    '''\n",
    "\n",
    "    def __init__(self, name):\n",
    "        self.name = name\n",
    "        self.all_cards = []\n",
    "\n",
    "    def __str__(self):\n",
    "        # A method that returns the name of the player\n",
    "        return f'{self.name}'\n",
    "\n",
    "    def number_cards(self):\n",
    "        # a method that returns the number of cards hold by the player\n",
    "        return f'{self.name} holds {len(self.all_cards)} cards.'\n",
    "\n",
    "    def remove_one(self):\n",
    "        # A method that remove the last card of the player's deck\n",
    "        return self.all_cards.pop(0)\n",
    "\n",
    "    def add_cards(self, new_cards):\n",
    "        # A method that add one or many cards to the bottom of the player's deck\n",
    "        if type(new_cards) == type([]):\n",
    "            self.all_cards.extend(new_cards)\n",
    "        else :\n",
    "            self.all_cards.append(new_cards)\n"
   ]
  },
  {
   "cell_type": "code",
   "execution_count": 13,
   "id": "d8e8dc0d",
   "metadata": {},
   "outputs": [],
   "source": [
    "new_player = Player ('Computer')"
   ]
  },
  {
   "cell_type": "code",
   "execution_count": 14,
   "id": "dc67eda4",
   "metadata": {},
   "outputs": [
    {
     "name": "stdout",
     "output_type": "stream",
     "text": [
      "Computer\n"
     ]
    }
   ],
   "source": [
    "print(new_player)"
   ]
  },
  {
   "cell_type": "code",
   "execution_count": 15,
   "id": "9b3db26a",
   "metadata": {},
   "outputs": [
    {
     "data": {
      "text/plain": [
       "'Computer holds 0 cards.'"
      ]
     },
     "execution_count": 15,
     "metadata": {},
     "output_type": "execute_result"
    }
   ],
   "source": [
    "new_player.number_cards()"
   ]
  },
  {
   "cell_type": "code",
   "execution_count": 16,
   "id": "b4fabfb5",
   "metadata": {},
   "outputs": [],
   "source": [
    "for num in range(26):\n",
    "    new_player.add_cards(new_deck.deal_one())"
   ]
  },
  {
   "cell_type": "code",
   "execution_count": 17,
   "id": "3b7199a2",
   "metadata": {},
   "outputs": [
    {
     "name": "stdout",
     "output_type": "stream",
     "text": [
      "Eight of Diamonds\n"
     ]
    }
   ],
   "source": [
    "print (new_player.remove_one())"
   ]
  },
  {
   "cell_type": "code",
   "execution_count": 18,
   "id": "e2173ad5",
   "metadata": {},
   "outputs": [
    {
     "name": "stdout",
     "output_type": "stream",
     "text": [
      "Computer\n"
     ]
    }
   ],
   "source": [
    "print (new_player)"
   ]
  },
  {
   "cell_type": "code",
   "execution_count": 19,
   "id": "8282689d",
   "metadata": {},
   "outputs": [],
   "source": [
    "for card in range(2):\n",
    "    new_player.remove_one()"
   ]
  },
  {
   "cell_type": "code",
   "execution_count": 20,
   "id": "67b997c4",
   "metadata": {},
   "outputs": [
    {
     "name": "stdout",
     "output_type": "stream",
     "text": [
      " \n",
      " W E L C O M E  T O  W A R !\n",
      " The rules are simple, play a card and pray to god that it is a \n",
      " higher rank than your opponents card.\n",
      "\n",
      " If you play the same card rank as your opponent, it's WAR !\n",
      " You and your opponent will play 5 more cards, only the last one\n",
      " needs to be higher rank than your opponents second card.\n",
      " If it is, you get all the cards played that round.\n",
      "\n",
      " If the computer cannot play, you win !\n",
      "\n",
      " LET'S BEGIN ! \n"
     ]
    }
   ],
   "source": [
    "print(\"\"\" \n",
    " W E L C O M E  T O  W A R !\n",
    " The rules are simple, play a card and pray to god that it is a \n",
    " higher rank than your opponents card.\n",
    "\n",
    " If you play the same card rank as your opponent, it's WAR !\n",
    " You and your opponent will play 5 more cards, only the last one\n",
    " needs to be higher rank than your opponents second card.\n",
    " If it is, you get all the cards played that round.\n",
    "\n",
    " If the computer cannot play, you win !\n",
    "\n",
    " LET'S BEGIN ! \"\"\")"
   ]
  },
  {
   "cell_type": "code",
   "execution_count": 21,
   "id": "ad2488aa",
   "metadata": {},
   "outputs": [
    {
     "name": "stdout",
     "output_type": "stream",
     "text": [
      "Please Enter your nameg\n",
      "The game opposes g to Computer.\n"
     ]
    }
   ],
   "source": [
    "player_human = Player(input('Please Enter your name : ')) #Create the Human player\n",
    "player_computer = Player('Computer') # Create the Computer player\n",
    "print(f'The game opposes {player_human} to {player_computer}.')"
   ]
  },
  {
   "cell_type": "code",
   "execution_count": 22,
   "id": "5997d346",
   "metadata": {},
   "outputs": [],
   "source": [
    "game_deck = Deck() # create the deck\n",
    "game_deck.shuffle() # shuffle the deck"
   ]
  },
  {
   "cell_type": "code",
   "execution_count": 23,
   "id": "0db51d35",
   "metadata": {},
   "outputs": [
    {
     "name": "stdout",
     "output_type": "stream",
     "text": [
      "Six of Diamonds\n"
     ]
    }
   ],
   "source": [
    "print (game_deck.all_cards[-1])"
   ]
  },
  {
   "cell_type": "code",
   "execution_count": 24,
   "id": "765c583f",
   "metadata": {},
   "outputs": [],
   "source": [
    "# Distribute the cards between the player\n",
    "for card_distributed in range(26): \n",
    "    player_human.add_cards(game_deck.deal_one())\n",
    "    player_computer.add_cards(game_deck.deal_one())"
   ]
  },
  {
   "cell_type": "code",
   "execution_count": 25,
   "id": "9aa8b779",
   "metadata": {},
   "outputs": [
    {
     "data": {
      "text/plain": [
       "'g holds 26 cards.'"
      ]
     },
     "execution_count": 25,
     "metadata": {},
     "output_type": "execute_result"
    }
   ],
   "source": [
    "player_human.number_cards()"
   ]
  },
  {
   "cell_type": "code",
   "execution_count": 26,
   "id": "6e0cbc95",
   "metadata": {},
   "outputs": [
    {
     "name": "stdout",
     "output_type": "stream",
     "text": [
      " \n",
      "\tW E L C O M E  T O  W A R !\n",
      "\n",
      "\tThe rules are simple, play a card and pray to god that it is a \n",
      "\thigher rank than your opponents card.\n",
      "\n",
      "\tIf you play the same card rank as your opponent, it's WAR !\n",
      "\tYou and your opponent will play 5 more cards, only the last one\n",
      "\tneeds to be higher rank than your opponents second card.\n",
      "\tIf it is, you get all the cards played that round.\n",
      "\n",
      "\tIf the computer cannot play, you win !\n",
      "\n",
      "\tLET'S BEGIN ! \n",
      "press ENTER to start\n"
     ]
    }
   ],
   "source": [
    "print(\"\"\" \n",
    "\tW E L C O M E  T O  W A R !\n",
    "\n",
    "\tThe rules are simple, play a card and pray to god that it is a \n",
    "\thigher rank than your opponents card.\n",
    "\n",
    "\tIf you play the same card rank as your opponent, it's WAR !\n",
    "\tYou and your opponent will play 5 more cards, only the last one\n",
    "\tneeds to be higher rank than your opponents second card.\n",
    "\tIf it is, you get all the cards played that round.\n",
    "\n",
    "\tIf the computer cannot play, you win !\n",
    "\n",
    "\tLET'S BEGIN ! \"\"\")\n",
    "wait = input(\"press ENTER to start\")  # all \"wait\" variables, are just there to wait for the player to input something\n"
   ]
  },
  {
   "cell_type": "code",
   "execution_count": 27,
   "id": "fe76b63d",
   "metadata": {},
   "outputs": [
    {
     "name": "stdout",
     "output_type": "stream",
     "text": [
      "Round 1\n",
      "g holds 26 cards.\n",
      "Computer holds 26 cards.\n"
     ]
    }
   ],
   "source": [
    "round_num = 0\n",
    "game_on = True\n",
    "\n",
    "\n",
    "round_num += 1 #update the round number\n",
    "print(f'Round {round_num}')\n",
    "\n",
    "print(player_human.number_cards()) #print how many card the Human player has\n",
    "print(player_computer.number_cards()) #same for the computer player\n"
   ]
  },
  {
   "cell_type": "code",
   "execution_count": 28,
   "id": "eee3da43",
   "metadata": {},
   "outputs": [
    {
     "name": "stdout",
     "output_type": "stream",
     "text": [
      "It is time to play !\n",
      "press ENTER to play a card\n",
      "You played the card Six of Diamonds.\n",
      "press ENTER to see what card Computer plays\n",
      "Computer played Ace of Diamonds.\n"
     ]
    }
   ],
   "source": [
    "print('It is time to play !')\n",
    "\n",
    "wait = input('press ENTER to play a card') #Human plays\n",
    "player_human_side = []\n",
    "player_human_side.append(player_human.remove_one())\n",
    "print(f'You played the card {player_human_side[-1]}.')\n",
    "\n",
    "player_computer_side = []\n",
    "wait = input(f'press ENTER to see what card {player_computer} plays') #Computer plays\n",
    "player_computer_side.append(player_computer.remove_one())\n",
    "print(f'{player_computer} played {player_computer_side[-1]}.')"
   ]
  },
  {
   "cell_type": "code",
   "execution_count": 29,
   "id": "8b609559",
   "metadata": {},
   "outputs": [
    {
     "name": "stdout",
     "output_type": "stream",
     "text": [
      "g holds 25 cards.\n",
      "Computer holds 27 cards.\n"
     ]
    }
   ],
   "source": [
    "if player_human_side[-1].value > player_computer_side[-1].value :\n",
    "    player_human.add_cards(player_computer_side)\n",
    "    player_human.add_cards(player_human_side)\n",
    "    print (player_human.number_cards())\n",
    "    print (player_computer.number_cards())\n",
    "elif player_human_side[-1].value < player_computer_side[-1].value :\n",
    "    player_computer.add_cards(player_human_side)\n",
    "    player_computer.add_cards(player_computer_side)\n",
    "    print (player_human.number_cards())\n",
    "    print (player_computer.number_cards())"
   ]
  },
  {
   "cell_type": "code",
   "execution_count": null,
   "id": "ecac5833",
   "metadata": {},
   "outputs": [],
   "source": []
  },
  {
   "cell_type": "code",
   "execution_count": 30,
   "id": "ac6acff8",
   "metadata": {},
   "outputs": [
    {
     "data": {
      "text/plain": [
       "1"
      ]
     },
     "execution_count": 30,
     "metadata": {},
     "output_type": "execute_result"
    }
   ],
   "source": [
    "len(player_computer_side)"
   ]
  },
  {
   "cell_type": "code",
   "execution_count": 31,
   "id": "b70747ed",
   "metadata": {},
   "outputs": [
    {
     "data": {
      "text/plain": [
       "27"
      ]
     },
     "execution_count": 31,
     "metadata": {},
     "output_type": "execute_result"
    }
   ],
   "source": [
    "len(player_computer.all_cards)"
   ]
  },
  {
   "cell_type": "code",
   "execution_count": 32,
   "id": "817b9eb3",
   "metadata": {},
   "outputs": [
    {
     "data": {
      "text/plain": [
       "1"
      ]
     },
     "execution_count": 32,
     "metadata": {},
     "output_type": "execute_result"
    }
   ],
   "source": [
    "len(player_human_side)"
   ]
  },
  {
   "cell_type": "code",
   "execution_count": 33,
   "id": "125d641f",
   "metadata": {},
   "outputs": [
    {
     "data": {
      "text/plain": [
       "25"
      ]
     },
     "execution_count": 33,
     "metadata": {},
     "output_type": "execute_result"
    }
   ],
   "source": [
    "len(player_human.all_cards)"
   ]
  },
  {
   "cell_type": "code",
   "execution_count": null,
   "id": "9f80878c",
   "metadata": {},
   "outputs": [],
   "source": []
  }
 ],
 "metadata": {
  "kernelspec": {
   "display_name": "Python 3 (ipykernel)",
   "language": "python",
   "name": "python3"
  },
  "language_info": {
   "codemirror_mode": {
    "name": "ipython",
    "version": 3
   },
   "file_extension": ".py",
   "mimetype": "text/x-python",
   "name": "python",
   "nbconvert_exporter": "python",
   "pygments_lexer": "ipython3",
   "version": "3.11.3"
  }
 },
 "nbformat": 4,
 "nbformat_minor": 5
}
